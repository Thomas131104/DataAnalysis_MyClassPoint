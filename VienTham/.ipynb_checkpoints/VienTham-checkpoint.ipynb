{
 "cells": [
  {
   "cell_type": "code",
   "execution_count": 75,
   "id": "c09699ee-c375-4323-9fcc-068f3e5dafb2",
   "metadata": {},
   "outputs": [],
   "source": [
    "import numpy as np\n",
    "import pandas as pd\n",
    "import matplotlib.pyplot as plt"
   ]
  },
  {
   "cell_type": "code",
   "execution_count": 136,
   "id": "0239ff8f-4706-4aae-a6c7-59af5e4b8050",
   "metadata": {},
   "outputs": [
    {
     "data": {
      "text/html": [
       "<div>\n",
       "<style scoped>\n",
       "    .dataframe tbody tr th:only-of-type {\n",
       "        vertical-align: middle;\n",
       "    }\n",
       "\n",
       "    .dataframe tbody tr th {\n",
       "        vertical-align: top;\n",
       "    }\n",
       "\n",
       "    .dataframe thead th {\n",
       "        text-align: right;\n",
       "    }\n",
       "</style>\n",
       "<table border=\"1\" class=\"dataframe\">\n",
       "  <thead>\n",
       "    <tr style=\"text-align: right;\">\n",
       "      <th></th>\n",
       "      <th>Stt</th>\n",
       "      <th>Mã SV</th>\n",
       "      <th>Họ lót</th>\n",
       "      <th>Tên</th>\n",
       "      <th>Mã lớp</th>\n",
       "      <th>Giữa kỳ 50%</th>\n",
       "      <th>Thi</th>\n",
       "      <th>TK</th>\n",
       "    </tr>\n",
       "  </thead>\n",
       "  <tbody>\n",
       "    <tr>\n",
       "      <th>0</th>\n",
       "      <td>1</td>\n",
       "      <td>22166003</td>\n",
       "      <td>NGUYỄN THỊ KIM</td>\n",
       "      <td>ANH</td>\n",
       "      <td>DH22HM</td>\n",
       "      <td>6.8</td>\n",
       "      <td>4.6</td>\n",
       "      <td>5.7</td>\n",
       "    </tr>\n",
       "    <tr>\n",
       "      <th>1</th>\n",
       "      <td>2</td>\n",
       "      <td>22166002</td>\n",
       "      <td>NGUYỄN NGỌC</td>\n",
       "      <td>ẤN</td>\n",
       "      <td>DH22HM</td>\n",
       "      <td>8.6</td>\n",
       "      <td>3.6</td>\n",
       "      <td>6.1</td>\n",
       "    </tr>\n",
       "    <tr>\n",
       "      <th>2</th>\n",
       "      <td>3</td>\n",
       "      <td>22166004</td>\n",
       "      <td>DƯƠNG VĂN</td>\n",
       "      <td>BẢO</td>\n",
       "      <td>DH22HM</td>\n",
       "      <td>7.0</td>\n",
       "      <td>3.6</td>\n",
       "      <td>5.3</td>\n",
       "    </tr>\n",
       "    <tr>\n",
       "      <th>3</th>\n",
       "      <td>4</td>\n",
       "      <td>22166006</td>\n",
       "      <td>LÊ VĂN</td>\n",
       "      <td>CHƯƠNG</td>\n",
       "      <td>DH22HM</td>\n",
       "      <td>7.8</td>\n",
       "      <td>4.8</td>\n",
       "      <td>6.3</td>\n",
       "    </tr>\n",
       "    <tr>\n",
       "      <th>4</th>\n",
       "      <td>5</td>\n",
       "      <td>22166007</td>\n",
       "      <td>ĐINH CÔNG</td>\n",
       "      <td>DANH</td>\n",
       "      <td>DH22HM</td>\n",
       "      <td>6.8</td>\n",
       "      <td>4.4</td>\n",
       "      <td>5.6</td>\n",
       "    </tr>\n",
       "    <tr>\n",
       "      <th>...</th>\n",
       "      <td>...</td>\n",
       "      <td>...</td>\n",
       "      <td>...</td>\n",
       "      <td>...</td>\n",
       "      <td>...</td>\n",
       "      <td>...</td>\n",
       "      <td>...</td>\n",
       "      <td>...</td>\n",
       "    </tr>\n",
       "    <tr>\n",
       "      <th>77</th>\n",
       "      <td>78</td>\n",
       "      <td>22166103</td>\n",
       "      <td>TRẦN DƯƠNG</td>\n",
       "      <td>VINH</td>\n",
       "      <td>DH22HM</td>\n",
       "      <td>8.2</td>\n",
       "      <td>4.4</td>\n",
       "      <td>6.3</td>\n",
       "    </tr>\n",
       "    <tr>\n",
       "      <th>78</th>\n",
       "      <td>79</td>\n",
       "      <td>22166104</td>\n",
       "      <td>NGUYỄN NHẬT</td>\n",
       "      <td>VŨ</td>\n",
       "      <td>DH22HM</td>\n",
       "      <td>7.6</td>\n",
       "      <td>6.2</td>\n",
       "      <td>6.9</td>\n",
       "    </tr>\n",
       "    <tr>\n",
       "      <th>79</th>\n",
       "      <td>80</td>\n",
       "      <td>22166105</td>\n",
       "      <td>TRẦN SANG</td>\n",
       "      <td>XUÂN</td>\n",
       "      <td>DH22HM</td>\n",
       "      <td>6.6</td>\n",
       "      <td>4.6</td>\n",
       "      <td>5.6</td>\n",
       "    </tr>\n",
       "    <tr>\n",
       "      <th>80</th>\n",
       "      <td>81</td>\n",
       "      <td>22166106</td>\n",
       "      <td>VÕ THỊ NHƯ</td>\n",
       "      <td>Ý</td>\n",
       "      <td>DH22HM</td>\n",
       "      <td>7.4</td>\n",
       "      <td>3.0</td>\n",
       "      <td>5.2</td>\n",
       "    </tr>\n",
       "    <tr>\n",
       "      <th>81</th>\n",
       "      <td>82</td>\n",
       "      <td>22166107</td>\n",
       "      <td>BÙI THỊ</td>\n",
       "      <td>YẾN</td>\n",
       "      <td>DH22HM</td>\n",
       "      <td>6.8</td>\n",
       "      <td>5.0</td>\n",
       "      <td>5.9</td>\n",
       "    </tr>\n",
       "  </tbody>\n",
       "</table>\n",
       "<p>82 rows × 8 columns</p>\n",
       "</div>"
      ],
      "text/plain": [
       "    Stt     Mã SV          Họ lót     Tên  Mã lớp  Giữa kỳ 50%  Thi   TK\n",
       "0     1  22166003  NGUYỄN THỊ KIM     ANH  DH22HM          6.8  4.6  5.7\n",
       "1     2  22166002     NGUYỄN NGỌC      ẤN  DH22HM          8.6  3.6  6.1\n",
       "2     3  22166004       DƯƠNG VĂN     BẢO  DH22HM          7.0  3.6  5.3\n",
       "3     4  22166006          LÊ VĂN  CHƯƠNG  DH22HM          7.8  4.8  6.3\n",
       "4     5  22166007       ĐINH CÔNG    DANH  DH22HM          6.8  4.4  5.6\n",
       "..  ...       ...             ...     ...     ...          ...  ...  ...\n",
       "77   78  22166103      TRẦN DƯƠNG    VINH  DH22HM          8.2  4.4  6.3\n",
       "78   79  22166104     NGUYỄN NHẬT      VŨ  DH22HM          7.6  6.2  6.9\n",
       "79   80  22166105       TRẦN SANG    XUÂN  DH22HM          6.6  4.6  5.6\n",
       "80   81  22166106      VÕ THỊ NHƯ       Ý  DH22HM          7.4  3.0  5.2\n",
       "81   82  22166107         BÙI THỊ     YẾN  DH22HM          6.8  5.0  5.9\n",
       "\n",
       "[82 rows x 8 columns]"
      ]
     },
     "execution_count": 136,
     "metadata": {},
     "output_type": "execute_result"
    }
   ],
   "source": [
    "# Đọc dữ liệu\n",
    "SCORES = pd.read_excel(r\".\\RS1_HM22_diemgui.xlsx\", skiprows = 3)\n",
    "\n",
    "# Loại bỏ các hàng trống\n",
    "SCORES = SCORES.dropna(how = 'all')\n",
    "\n",
    "# Loại bỏ 2 cột trống (Do giảng viên đánh dấu)\n",
    "SCORES = SCORES.drop(SCORES.columns[:-3:-1], axis = 1)\n",
    "\n",
    "\n",
    "SCORES.iloc[:, :]"
   ]
  },
  {
   "cell_type": "markdown",
   "id": "bd8c2e2b-53d1-4fdc-a6db-2f4e495903a7",
   "metadata": {},
   "source": [
    "# **Công đoạn tiền xử lí dữ liệu**"
   ]
  },
  {
   "cell_type": "markdown",
   "id": "0c693498-cefc-419d-9318-2822587b48d5",
   "metadata": {},
   "source": [
    "## **Xử lý về họ tên của sinh viên**"
   ]
  },
  {
   "cell_type": "code",
   "execution_count": 77,
   "id": "2f02f4c1-f52d-4212-811e-71e03eee6b2f",
   "metadata": {},
   "outputs": [
    {
     "data": {
      "text/plain": [
       "0     NGUYỄN THỊ KIM ANH\n",
       "1         NGUYỄN NGỌC ẤN\n",
       "2          DƯƠNG VĂN BẢO\n",
       "3          LÊ VĂN CHƯƠNG\n",
       "4         ĐINH CÔNG DANH\n",
       "             ...        \n",
       "77       TRẦN DƯƠNG VINH\n",
       "78        NGUYỄN NHẬT VŨ\n",
       "79        TRẦN SANG XUÂN\n",
       "80          VÕ THỊ NHƯ Ý\n",
       "81           BÙI THỊ YẾN\n",
       "Length: 82, dtype: object"
      ]
     },
     "execution_count": 77,
     "metadata": {},
     "output_type": "execute_result"
    }
   ],
   "source": [
    "names = SCORES[\"Họ lót\"] + \" \" + SCORES[\"Tên\"]\n",
    "SCORES.insert(loc = 1, column = \"Tên đầy đủ\", value = names)\n",
    "\n",
    "SCORES = SCORES.drop([\"Họ lót\", \"Tên\"], axis = 1)\n",
    "\n",
    "names"
   ]
  },
  {
   "cell_type": "markdown",
   "id": "18eb5bcd-e46d-469b-909e-51531f3e9da0",
   "metadata": {},
   "source": [
    "## **Xử lý các cột điểm của sinh viên**"
   ]
  },
  {
   "cell_type": "code",
   "execution_count": 78,
   "id": "bf27f9b2-7940-4555-a7ae-43e31c44e686",
   "metadata": {},
   "outputs": [
    {
     "data": {
      "text/plain": [
       "0     6.8\n",
       "1     8.6\n",
       "2     7.0\n",
       "3     7.8\n",
       "4     6.8\n",
       "     ... \n",
       "77    8.2\n",
       "78    7.6\n",
       "79    6.6\n",
       "80    7.4\n",
       "81    6.8\n",
       "Name: Giữa kỳ 50%, Length: 82, dtype: float64"
      ]
     },
     "execution_count": 78,
     "metadata": {},
     "output_type": "execute_result"
    }
   ],
   "source": [
    "# Loại bỏ các dòng trống\n",
    "SCORES.fillna(0, inplace = True)\n",
    "\n",
    "middle = SCORES[\"Giữa kỳ 50%\"]\n",
    "middle"
   ]
  },
  {
   "cell_type": "code",
   "execution_count": 79,
   "id": "1e5118b4-0324-45d8-aeb7-b265f60e10f4",
   "metadata": {},
   "outputs": [
    {
     "data": {
      "text/plain": [
       "0     4.6\n",
       "1     3.6\n",
       "2     3.6\n",
       "3     4.8\n",
       "4     4.4\n",
       "     ... \n",
       "77    4.4\n",
       "78    6.2\n",
       "79    4.6\n",
       "80    3.0\n",
       "81    5.0\n",
       "Name: Thi, Length: 82, dtype: float64"
      ]
     },
     "execution_count": 79,
     "metadata": {},
     "output_type": "execute_result"
    }
   ],
   "source": [
    "final = SCORES[\"Thi\"]\n",
    "final"
   ]
  },
  {
   "cell_type": "code",
   "execution_count": 80,
   "id": "3d87211b-eac1-4414-a1df-05ad538be6cc",
   "metadata": {},
   "outputs": [
    {
     "data": {
      "text/plain": [
       "0     5.7\n",
       "1     6.1\n",
       "2     5.3\n",
       "3     6.3\n",
       "4     5.6\n",
       "     ... \n",
       "77    6.3\n",
       "78    6.9\n",
       "79    5.6\n",
       "80    5.2\n",
       "81    5.9\n",
       "Name: TK, Length: 82, dtype: float64"
      ]
     },
     "execution_count": 80,
     "metadata": {},
     "output_type": "execute_result"
    }
   ],
   "source": [
    "gpa = SCORES[\"TK\"]\n",
    "gpa"
   ]
  },
  {
   "cell_type": "markdown",
   "id": "93c4bddd-4f30-4efb-8b37-645d54eccc59",
   "metadata": {},
   "source": [
    "# **Truy vấn dữ liệu trong bảng điểm**"
   ]
  },
  {
   "cell_type": "code",
   "execution_count": 81,
   "id": "d69ca91b-4a5d-49f2-ad43-73fec442c87c",
   "metadata": {},
   "outputs": [
    {
     "data": {
      "text/html": [
       "<div>\n",
       "<style scoped>\n",
       "    .dataframe tbody tr th:only-of-type {\n",
       "        vertical-align: middle;\n",
       "    }\n",
       "\n",
       "    .dataframe tbody tr th {\n",
       "        vertical-align: top;\n",
       "    }\n",
       "\n",
       "    .dataframe thead th {\n",
       "        text-align: right;\n",
       "    }\n",
       "</style>\n",
       "<table border=\"1\" class=\"dataframe\">\n",
       "  <thead>\n",
       "    <tr style=\"text-align: right;\">\n",
       "      <th></th>\n",
       "      <th>Stt</th>\n",
       "      <th>Tên đầy đủ</th>\n",
       "      <th>Mã SV</th>\n",
       "      <th>Mã lớp</th>\n",
       "      <th>Giữa kỳ 50%</th>\n",
       "      <th>Thi</th>\n",
       "      <th>TK</th>\n",
       "    </tr>\n",
       "  </thead>\n",
       "  <tbody>\n",
       "    <tr>\n",
       "      <th>20</th>\n",
       "      <td>21</td>\n",
       "      <td>NGUYỄN THỊ HUYỀN</td>\n",
       "      <td>22166031</td>\n",
       "      <td>DH22HM</td>\n",
       "      <td>3.2</td>\n",
       "      <td>0.0</td>\n",
       "      <td>1.6</td>\n",
       "    </tr>\n",
       "    <tr>\n",
       "      <th>27</th>\n",
       "      <td>28</td>\n",
       "      <td>NGUYỄN LƯU TRỌNG LỄ</td>\n",
       "      <td>22166041</td>\n",
       "      <td>DH22HM</td>\n",
       "      <td>5.2</td>\n",
       "      <td>2.4</td>\n",
       "      <td>3.8</td>\n",
       "    </tr>\n",
       "    <tr>\n",
       "      <th>59</th>\n",
       "      <td>60</td>\n",
       "      <td>Phạm Thuỷ Tiên</td>\n",
       "      <td>21157026</td>\n",
       "      <td>DH21DL</td>\n",
       "      <td>0.0</td>\n",
       "      <td>0.0</td>\n",
       "      <td>0.0</td>\n",
       "    </tr>\n",
       "  </tbody>\n",
       "</table>\n",
       "</div>"
      ],
      "text/plain": [
       "    Stt           Tên đầy đủ     Mã SV  Mã lớp  Giữa kỳ 50%  Thi   TK\n",
       "20   21     NGUYỄN THỊ HUYỀN  22166031  DH22HM          3.2  0.0  1.6\n",
       "27   28  NGUYỄN LƯU TRỌNG LỄ  22166041  DH22HM          5.2  2.4  3.8\n",
       "59   60       Phạm Thuỷ Tiên  21157026  DH21DL          0.0  0.0  0.0"
      ]
     },
     "execution_count": 81,
     "metadata": {},
     "output_type": "execute_result"
    }
   ],
   "source": [
    "# Truy vấn ai rớt môn\n",
    "SCORES[SCORES[\"TK\"] < 4]"
   ]
  },
  {
   "cell_type": "code",
   "execution_count": 84,
   "id": "11c2c543-3f08-4dad-93d4-1a5332da45df",
   "metadata": {},
   "outputs": [
    {
     "data": {
      "text/html": [
       "<div>\n",
       "<style scoped>\n",
       "    .dataframe tbody tr th:only-of-type {\n",
       "        vertical-align: middle;\n",
       "    }\n",
       "\n",
       "    .dataframe tbody tr th {\n",
       "        vertical-align: top;\n",
       "    }\n",
       "\n",
       "    .dataframe thead th {\n",
       "        text-align: right;\n",
       "    }\n",
       "</style>\n",
       "<table border=\"1\" class=\"dataframe\">\n",
       "  <thead>\n",
       "    <tr style=\"text-align: right;\">\n",
       "      <th></th>\n",
       "      <th>Stt</th>\n",
       "      <th>Tên đầy đủ</th>\n",
       "      <th>Mã SV</th>\n",
       "      <th>Mã lớp</th>\n",
       "      <th>Giữa kỳ 50%</th>\n",
       "      <th>Thi</th>\n",
       "      <th>TK</th>\n",
       "    </tr>\n",
       "  </thead>\n",
       "  <tbody>\n",
       "    <tr>\n",
       "      <th>17</th>\n",
       "      <td>18</td>\n",
       "      <td>BÙI THANH HOÀNG</td>\n",
       "      <td>22166026</td>\n",
       "      <td>DH22HM</td>\n",
       "      <td>9.3</td>\n",
       "      <td>6.0</td>\n",
       "      <td>7.65</td>\n",
       "    </tr>\n",
       "  </tbody>\n",
       "</table>\n",
       "</div>"
      ],
      "text/plain": [
       "    Stt       Tên đầy đủ     Mã SV  Mã lớp  Giữa kỳ 50%  Thi    TK\n",
       "17   18  BÙI THANH HOÀNG  22166026  DH22HM          9.3  6.0  7.65"
      ]
     },
     "execution_count": 84,
     "metadata": {},
     "output_type": "execute_result"
    }
   ],
   "source": [
    "# Truy vấn đứa có điểm GK cao nhất\n",
    "SCORES[SCORES[\"Giữa kỳ 50%\"] == SCORES[\"Giữa kỳ 50%\"].max()]"
   ]
  },
  {
   "cell_type": "code",
   "execution_count": 82,
   "id": "6edd3ef6-cfdd-4c76-b7d6-ed3f7bcd1058",
   "metadata": {},
   "outputs": [
    {
     "data": {
      "text/html": [
       "<div>\n",
       "<style scoped>\n",
       "    .dataframe tbody tr th:only-of-type {\n",
       "        vertical-align: middle;\n",
       "    }\n",
       "\n",
       "    .dataframe tbody tr th {\n",
       "        vertical-align: top;\n",
       "    }\n",
       "\n",
       "    .dataframe thead th {\n",
       "        text-align: right;\n",
       "    }\n",
       "</style>\n",
       "<table border=\"1\" class=\"dataframe\">\n",
       "  <thead>\n",
       "    <tr style=\"text-align: right;\">\n",
       "      <th></th>\n",
       "      <th>Stt</th>\n",
       "      <th>Tên đầy đủ</th>\n",
       "      <th>Mã SV</th>\n",
       "      <th>Mã lớp</th>\n",
       "      <th>Giữa kỳ 50%</th>\n",
       "      <th>Thi</th>\n",
       "      <th>TK</th>\n",
       "    </tr>\n",
       "  </thead>\n",
       "  <tbody>\n",
       "    <tr>\n",
       "      <th>12</th>\n",
       "      <td>13</td>\n",
       "      <td>NGUYỄN THANH GIANG</td>\n",
       "      <td>22166018</td>\n",
       "      <td>DH22HM</td>\n",
       "      <td>8.65</td>\n",
       "      <td>9.0</td>\n",
       "      <td>8.825</td>\n",
       "    </tr>\n",
       "    <tr>\n",
       "      <th>74</th>\n",
       "      <td>75</td>\n",
       "      <td>HỒ MẠNH TƯỜNG</td>\n",
       "      <td>22166099</td>\n",
       "      <td>DH22HM</td>\n",
       "      <td>8.05</td>\n",
       "      <td>9.0</td>\n",
       "      <td>8.525</td>\n",
       "    </tr>\n",
       "  </tbody>\n",
       "</table>\n",
       "</div>"
      ],
      "text/plain": [
       "    Stt          Tên đầy đủ     Mã SV  Mã lớp  Giữa kỳ 50%  Thi     TK\n",
       "12   13  NGUYỄN THANH GIANG  22166018  DH22HM         8.65  9.0  8.825\n",
       "74   75       HỒ MẠNH TƯỜNG  22166099  DH22HM         8.05  9.0  8.525"
      ]
     },
     "execution_count": 82,
     "metadata": {},
     "output_type": "execute_result"
    }
   ],
   "source": [
    "# Truy vấn đứa có điểm CK cao nhất\n",
    "SCORES[SCORES[\"Thi\"] == SCORES[\"Thi\"].max()]"
   ]
  },
  {
   "cell_type": "code",
   "execution_count": 88,
   "id": "645cbfc4-8bc0-4c6d-827c-1fc2c7db0c21",
   "metadata": {},
   "outputs": [
    {
     "data": {
      "text/html": [
       "<div>\n",
       "<style scoped>\n",
       "    .dataframe tbody tr th:only-of-type {\n",
       "        vertical-align: middle;\n",
       "    }\n",
       "\n",
       "    .dataframe tbody tr th {\n",
       "        vertical-align: top;\n",
       "    }\n",
       "\n",
       "    .dataframe thead th {\n",
       "        text-align: right;\n",
       "    }\n",
       "</style>\n",
       "<table border=\"1\" class=\"dataframe\">\n",
       "  <thead>\n",
       "    <tr style=\"text-align: right;\">\n",
       "      <th></th>\n",
       "      <th>Stt</th>\n",
       "      <th>Tên đầy đủ</th>\n",
       "      <th>Mã SV</th>\n",
       "      <th>Mã lớp</th>\n",
       "      <th>Giữa kỳ 50%</th>\n",
       "      <th>Thi</th>\n",
       "      <th>TK</th>\n",
       "    </tr>\n",
       "  </thead>\n",
       "  <tbody>\n",
       "    <tr>\n",
       "      <th>12</th>\n",
       "      <td>13</td>\n",
       "      <td>NGUYỄN THANH GIANG</td>\n",
       "      <td>22166018</td>\n",
       "      <td>DH22HM</td>\n",
       "      <td>8.65</td>\n",
       "      <td>9.0</td>\n",
       "      <td>8.825</td>\n",
       "    </tr>\n",
       "  </tbody>\n",
       "</table>\n",
       "</div>"
      ],
      "text/plain": [
       "    Stt          Tên đầy đủ     Mã SV  Mã lớp  Giữa kỳ 50%  Thi     TK\n",
       "12   13  NGUYỄN THANH GIANG  22166018  DH22HM         8.65  9.0  8.825"
      ]
     },
     "execution_count": 88,
     "metadata": {},
     "output_type": "execute_result"
    }
   ],
   "source": [
    "# Truy vấn đứa có điểm TK cao nhất\n",
    "SCORES[SCORES[\"TK\"] == SCORES[\"TK\"].max()]"
   ]
  },
  {
   "cell_type": "markdown",
   "id": "d3b5400c-d1cb-4656-b96f-785761370717",
   "metadata": {},
   "source": [
    "# **Mô hình hóa dữ liệu**"
   ]
  },
  {
   "cell_type": "code",
   "execution_count": 85,
   "id": "8ca28343-d9cd-418f-ad57-74141a5ea408",
   "metadata": {},
   "outputs": [
    {
     "data": {
      "image/png": "[encoded data removed]",
      "text/plain": [
       "<Figure size 640x480 with 2 Axes>"
      ]
     },
     "metadata": {},
     "output_type": "display_data"
    }
   ],
   "source": [
    "plt.scatter(middle, final, c = final)\n",
    "plt.colorbar(label = \"CK\")\n",
    "plt.xlabel(\"GK\")\n",
    "plt.ylabel(\"CK\")\n",
    "plt.title(\"Phổ điểm giữa kỳ và cuối kỳ môn VTCS\")\n",
    "plt.xlim(0, 10)\n",
    "plt.ylim(0, 10)\n",
    "plt.grid()\n",
    "plt.show()"
   ]
  },
  {
   "cell_type": "code",
   "execution_count": 103,
   "id": "6bd8bb31-7d6a-4b5a-86d6-c7cdc2cf0e23",
   "metadata": {},
   "outputs": [
    {
     "data": {
      "image/png": "[encoded data removed]",
      "text/plain": [
       "<Figure size 640x480 with 1 Axes>"
      ]
     },
     "metadata": {},
     "output_type": "display_data"
    }
   ],
   "source": [
    "# Lọc ra các hàng có điểm cuối kỳ, giữa kỳ và GPA đều bằng 0\n",
    "rows_to_drop = SCORES[(SCORES[\"Giữa kỳ 50%\"] == 0) & (SCORES[\"Thi\"] == 0) & (SCORES[\"TK\"] == 0)].index\n",
    "\n",
    "# Loại bỏ các hàng này khỏi DataFrame\n",
    "SCORES_filtered = SCORES.drop(rows_to_drop)\n",
    "\n",
    "# Chuẩn bị dữ liệu cho scatter plot 3D\n",
    "GK = SCORES_filtered[\"Giữa kỳ 50%\"]\n",
    "Thi = SCORES_filtered[\"Thi\"]\n",
    "TK = SCORES_filtered[\"TK\"]\n",
    "\n",
    "# Tạo figure và subplot 3D\n",
    "fig = plt.figure()\n",
    "ax = fig.add_subplot(111, projection='3d')\n",
    "\n",
    "# Vẽ scatter plot 3D\n",
    "ax.scatter(GK, Thi, TK)\n",
    "\n",
    "# Đặt nhãn trục và tiêu đề\n",
    "ax.set_xlabel('GK')\n",
    "ax.set_ylabel('Thi')\n",
    "ax.set_zlabel('TK')\n",
    "ax.set_title('Biểu đồ scatter 3D môn VTCS')\n",
    "\n",
    "# Thay đổi giới hạn\n",
    "ax.set_xlim(0, 10)\n",
    "ax.set_ylim(0, 10)\n",
    "ax.set_zlim(0, 10)\n",
    "\n",
    "plt.show()"
   ]
  },
  {
   "cell_type": "markdown",
   "id": "86e78713-cc01-4e5e-b845-f832e4c8ddd8",
   "metadata": {},
   "source": [
    "# **Thực hành thống kê bảng điểm**"
   ]
  },
  {
   "cell_type": "code",
   "execution_count": 98,
   "id": "176b4e4f-1182-45a2-99a8-0474a8d7da48",
   "metadata": {},
   "outputs": [
    {
     "name": "stdout",
     "output_type": "stream",
     "text": [
      "count    81.000000\n",
      "mean      7.518642\n",
      "std       1.045019\n",
      "min       3.200000\n",
      "25%       6.800000\n",
      "50%       7.600000\n",
      "75%       8.200000\n",
      "max       9.300000\n",
      "Name: Giữa kỳ 50%, dtype: float64\n",
      "count    81.000000\n",
      "mean      4.424691\n",
      "std       1.594171\n",
      "min       0.000000\n",
      "25%       3.400000\n",
      "50%       4.400000\n",
      "75%       5.200000\n",
      "max       9.000000\n",
      "Name: Thi, dtype: float64\n",
      "count    81.000000\n",
      "mean      5.971667\n",
      "std       1.095447\n",
      "min       1.600000\n",
      "25%       5.400000\n",
      "50%       5.875000\n",
      "75%       6.600000\n",
      "max       8.825000\n",
      "Name: TK, dtype: float64\n"
     ]
    }
   ],
   "source": [
    "print(SCORES_filtered[\"Giữa kỳ 50%\"].describe())\n",
    "print(SCORES_filtered[\"Thi\"].describe())\n",
    "print(SCORES_filtered[\"TK\"].describe())"
   ]
  },
  {
   "cell_type": "markdown",
   "id": "f95b735b-fdb9-4a20-b8cb-8b1020c14661",
   "metadata": {},
   "source": [
    "# **So sánh điểm của người dùng với mặt bằng chung của cả lớp**"
   ]
  },
  {
   "cell_type": "code",
   "execution_count": 113,
   "id": "500027dd-4404-4762-bb54-fea291355a3e",
   "metadata": {},
   "outputs": [
    {
     "data": {
      "text/plain": [
       "Stt                   18\n",
       "Mã SV           22166026\n",
       "Họ lót         BÙI THANH\n",
       "Tên                HOÀNG\n",
       "Mã lớp            DH22HM\n",
       "Giữa kỳ 50%          9.3\n",
       "Thi                  6.0\n",
       "TK                  7.65\n",
       "Name: 17, dtype: object"
      ]
     },
     "execution_count": 113,
     "metadata": {},
     "output_type": "execute_result"
    }
   ],
   "source": [
    "test = SCORES.iloc[17, :]\n",
    "test"
   ]
  },
  {
   "cell_type": "code",
   "execution_count": 117,
   "id": "236e2ff6-3e9d-474a-8181-d1f2ee5d1a13",
   "metadata": {},
   "outputs": [
    {
     "data": {
      "text/html": [
       "<div>\n",
       "<style scoped>\n",
       "    .dataframe tbody tr th:only-of-type {\n",
       "        vertical-align: middle;\n",
       "    }\n",
       "\n",
       "    .dataframe tbody tr th {\n",
       "        vertical-align: top;\n",
       "    }\n",
       "\n",
       "    .dataframe thead th {\n",
       "        text-align: right;\n",
       "    }\n",
       "</style>\n",
       "<table border=\"1\" class=\"dataframe\">\n",
       "  <thead>\n",
       "    <tr style=\"text-align: right;\">\n",
       "      <th></th>\n",
       "      <th>GK</th>\n",
       "      <th>CK</th>\n",
       "      <th>TK</th>\n",
       "    </tr>\n",
       "  </thead>\n",
       "  <tbody>\n",
       "    <tr>\n",
       "      <th>Tôi</th>\n",
       "      <td>9.300000</td>\n",
       "      <td>6.000000</td>\n",
       "      <td>7.650000</td>\n",
       "    </tr>\n",
       "    <tr>\n",
       "      <th>Cả lớp</th>\n",
       "      <td>7.426951</td>\n",
       "      <td>4.424691</td>\n",
       "      <td>5.898841</td>\n",
       "    </tr>\n",
       "  </tbody>\n",
       "</table>\n",
       "</div>"
      ],
      "text/plain": [
       "              GK        CK        TK\n",
       "Tôi     9.300000  6.000000  7.650000\n",
       "Cả lớp  7.426951  4.424691  5.898841"
      ]
     },
     "execution_count": 117,
     "metadata": {},
     "output_type": "execute_result"
    }
   ],
   "source": [
    "# Assuming you have already defined `middle`, `final`, and `gpa` as means\n",
    "GK = SCORES_filtered[\"Giữa kỳ 50%\"]\n",
    "Thi = SCORES_filtered[\"Thi\"]\n",
    "TK = SCORES_filtered[\"TK\"]\n",
    "my_class = [GK.mean(), Thi.mean(), TK.mean()]\n",
    "\n",
    "# Assuming `test` contains your scores for a specific student (row 17)\n",
    "my_score = [test['Giữa kỳ 50%'], test['Thi'], test['TK']]\n",
    "\n",
    "# Create a DataFrame for comparison\n",
    "comparison = pd.DataFrame([my_score, my_class], columns=[\"GK\", \"CK\", \"TK\"], index=[\"Tôi\", \"Cả lớp\"])\n",
    "comparison"
   ]
  },
  {
   "cell_type": "markdown",
   "id": "1c1d258c-de9f-4c5a-ad8b-d1c863f31fec",
   "metadata": {},
   "source": [
    "# **Sắp xếp bảng điểm cho vui**:"
   ]
  },
  {
   "cell_type": "code",
   "execution_count": 124,
   "id": "832fb6e1-fceb-4ee6-828c-e9463fdbcfd3",
   "metadata": {},
   "outputs": [
    {
     "name": "stdout",
     "output_type": "stream",
     "text": [
      "    Stt     Mã SV           Họ lót    Tên  Mã lớp  Giữa kỳ 50%  Thi     TK\n",
      "12   13  22166018     NGUYỄN THANH  GIANG  DH22HM         8.65  9.0  8.825\n",
      "74   75  22166099          HỒ MẠNH  TƯỜNG  DH22HM         8.05  9.0  8.525\n",
      "75   76  22166101    NGUYỄN THỊ MỸ   UYÊN  DH22HM         8.35  8.0  8.175\n",
      "69   70  22166092       NGUYỄN NHÃ   TRÚC  DH22HM         7.80  8.0  7.900\n",
      "50   51  22166069      NGUYỄN MINH    PHÚ  DH22HM         9.20  6.6  7.900\n",
      "11   12  22166017     NGUYỄN HOÀNG  GIANG  DH22HM         8.90  6.8  7.850\n",
      "43   44  22166061     TRẦN THỊ NHƯ   NGỌC  DH22HM         9.10  6.4  7.750\n",
      "17   18  22166026        BÙI THANH  HOÀNG  DH22HM         9.30  6.0  7.650\n",
      "37   38  22166054  TRẦN NHẬT HUYỀN     MY  DH22HM         8.60  5.8  7.200\n",
      "66   67  22166089   LÊ NGUYỄN MINH    TRÍ  DH22HM         8.40  5.8  7.100\n",
      "Hạng điểm tổng kết của bạn là: 8\n"
     ]
    }
   ],
   "source": [
    "# Tạo DataFrame mới từ SCORES và sắp xếp theo cột TK\n",
    "sorted_scores = SCORES.sort_values(by='TK', ascending=False)\n",
    "\n",
    "# In ra một số hàng đầu của DataFrame mới\n",
    "print(sorted_scores.head(10))\n",
    "\n",
    "# Xem coi mình đang ở hạng bao nhiêu trong bảng điểm nghiệt ngã này.\n",
    "my_rank = sorted_scores.index.get_loc(17) + 1  # +1 vì vị trí bắt đầu từ 0\n",
    "\n",
    "print(f'Hạng điểm tổng kết của bạn là: {my_rank}')\n"
   ]
  },
  {
   "cell_type": "markdown",
   "id": "ad385c66-429e-4b19-89de-9cf083b4fb18",
   "metadata": {},
   "source": [
    "## Câu hỏi truy vấn: với bảng dữ liệu 82 bạn sinh viên đó (tính luôn bạn 3 cột 0 điểm), top bao nhiêu là điểm TK dưới 5?"
   ]
  },
  {
   "cell_type": "code",
   "execution_count": 135,
   "id": "6cde9cf9-6b0a-4dd7-bf65-02edd987126c",
   "metadata": {},
   "outputs": [
    {
     "name": "stdout",
     "output_type": "stream",
     "text": [
      "69\n",
      "    Stt     Mã SV            Họ lót    Tên  Mã lớp  Giữa kỳ 50%  Thi    TK\n",
      "5     6  22166012         PHẠM KHẮC    DUY  DH22HM          7.3  2.6  4.95\n",
      "56   57  22166078       TRƯƠNG ĐÌNH    THẾ  DH22HM          6.8  3.0  4.90\n",
      "57   58  22166080       NGUYỄN PHÚC  THIỆN  DH22HM          5.2  4.4  4.80\n",
      "25   26  22166040   TRẦN NGUYỄN VÂN    LAN  DH22HM          6.2  3.2  4.70\n",
      "67   68  22166090            ĐỖ PHÚ  TRỌNG  DH22HM          4.8  4.6  4.70\n",
      "19   20  22166029         ĐẶNG NGỌC    HUY  DH22HM          6.6  2.8  4.70\n",
      "34   35  22166050    TRƯƠNG THỊ HOA     LÝ  DH22HM          5.8  3.4  4.60\n",
      "53   54  21157097        Nguyễn Phú    Quí  DH21DL          6.4  2.6  4.50\n",
      "32   33  22166048    HUỲNH VÕ KHÁNH   LUÂN  DH22HM          6.6  2.0  4.30\n",
      "27   28  22166041  NGUYỄN LƯU TRỌNG     LỄ  DH22HM          5.2  2.4  3.80\n",
      "20   21  22166031        NGUYỄN THỊ  HUYỀN  DH22HM          3.2  0.0  1.60\n",
      "59   60  21157026         Phạm Thuỷ   Tiên  DH21DL          0.0  NaN  0.00\n"
     ]
    }
   ],
   "source": [
    "print(sum(SCORES[\"TK\"] > 5))\n",
    "print(sorted_scores.tail(12))"
   ]
  },
  {
   "cell_type": "code",
   "execution_count": null,
   "id": "ab45acab-8dc6-4758-9fb7-fe3a143f2d85",
   "metadata": {},
   "outputs": [],
   "source": []
  },
  {
   "cell_type": "code",
   "execution_count": null,
   "id": "5948e6c8-15d1-4f0b-a737-0fc9397e6b7a",
   "metadata": {},
   "outputs": [],
   "source": []
  },
  {
   "cell_type": "code",
   "execution_count": null,
   "id": "8de8db84-6f8b-44dc-805f-61951364052d",
   "metadata": {},
   "outputs": [],
   "source": []
  },
  {
   "cell_type": "code",
   "execution_count": null,
   "id": "c9a58d14-2fec-4fbf-b315-b088bd9a5026",
   "metadata": {},
   "outputs": [],
   "source": []
  }
 ],
 "metadata": {
  "kernelspec": {
   "display_name": "Python 3 (ipykernel)",
   "language": "python",
   "name": "python3"
  },
  "language_info": {
   "codemirror_mode": {
    "name": "ipython",
    "version": 3
   },
   "file_extension": ".py",
   "mimetype": "text/x-python",
   "name": "python",
   "nbconvert_exporter": "python",
   "pygments_lexer": "ipython3",
   "version": "3.12.1"
  }
 },
 "nbformat": 4,
 "nbformat_minor": 5
}
