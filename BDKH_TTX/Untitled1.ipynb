{
 "cells": [
  {
   "cell_type": "code",
   "execution_count": 38,
   "id": "ee4939eb-b43a-4f79-9a58-4e504e48f2f4",
   "metadata": {},
   "outputs": [
    {
     "name": "stdout",
     "output_type": "stream",
     "text": [
      "[1, 2, 3, 6]\n",
      "12\n"
     ]
    }
   ],
   "source": [
    "import math\n",
    "\n",
    "def Uoc(n : int) -> list:\n",
    "    ans = [1, n]\n",
    "    if n == 0 or n == 1:\n",
    "        return []\n",
    "\n",
    "    # Duyệt từ 2 đến phần nguyên của căn bậc 2 của n\n",
    "    b = math.floor(math.sqrt(n))\n",
    "    for i in range(2, b + 1):\n",
    "        if n % i == 0:\n",
    "            # Xử lí riêng trường hợp n là số chính phương\n",
    "            if i*i == n:\n",
    "                ans.append(i)\n",
    "            else:\n",
    "                ans.append(i)\n",
    "                ans.append(n // i)\n",
    "    \n",
    "    return sorted(ans)\n",
    "\n",
    "\n",
    "def TongUocSo(n : int) -> int:\n",
    "    temp = Uoc(n)\n",
    "    return sum(temp) if temp else -1\n",
    "\n",
    "\n",
    "n = 6\n",
    "print(Uoc(n))\n",
    "print(TongUocSo(n))"
   ]
  },
  {
   "cell_type": "code",
   "execution_count": 42,
   "id": "3d826a0d-c639-4fd5-8ce9-8dc3557ce9d3",
   "metadata": {},
   "outputs": [
    {
     "name": "stdout",
     "output_type": "stream",
     "text": [
      "1170\n"
     ]
    }
   ],
   "source": [
    "import sympy as sp\n",
    "\n",
    "n = 360\n",
    "print(sum(sp.divisors(n)))"
   ]
  }
 ],
 "metadata": {
  "kernelspec": {
   "display_name": "Python 3 (ipykernel)",
   "language": "python",
   "name": "python3"
  },
  "language_info": {
   "codemirror_mode": {
    "name": "ipython",
    "version": 3
   },
   "file_extension": ".py",
   "mimetype": "text/x-python",
   "name": "python",
   "nbconvert_exporter": "python",
   "pygments_lexer": "ipython3",
   "version": "3.12.1"
  }
 },
 "nbformat": 4,
 "nbformat_minor": 5
}
